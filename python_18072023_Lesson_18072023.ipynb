{
 "cells": [
  {
   "cell_type": "code",
   "execution_count": 4,
   "id": "1bfa3e68",
   "metadata": {},
   "outputs": [
    {
     "data": {
      "text/plain": [
       "'c.a.b'"
      ]
     },
     "execution_count": 4,
     "metadata": {},
     "output_type": "execute_result"
    }
   ],
   "source": [
    "'.'.join(set(\"abcabc\"))"
   ]
  },
  {
   "cell_type": "code",
   "execution_count": 6,
   "id": "bfaa9019",
   "metadata": {},
   "outputs": [
    {
     "name": "stdout",
     "output_type": "stream",
     "text": [
      "a,b,c\n",
      "a,c,b\n",
      "b,a,c\n",
      "b,c,a\n",
      "c,a,b\n",
      "c,b,a\n"
     ]
    }
   ],
   "source": [
    "from itertools import permutations\n",
    "lst = ['a', 'b', 'c']\n",
    "perm_lst = permutations(lst)\n",
    "for perm in perm_lst:\n",
    "    print (\",\".join(perm))"
   ]
  },
  {
   "cell_type": "markdown",
   "id": "12b2a30d",
   "metadata": {},
   "source": [
    "<h2>OOP - Object Oriented Programming<h2>"
   ]
  },
  {
   "cell_type": "code",
   "execution_count": 48,
   "id": "9dbf9650",
   "metadata": {},
   "outputs": [
    {
     "name": "stdout",
     "output_type": "stream",
     "text": [
      "Ford= 12\n",
      "Mazda= 11\n",
      "the car fuel consuption is: 12\n",
      "the car fuel consuption is: 11\n",
      "__________\n",
      "Car type Ford, fuel consumption:12\n",
      "__________\n",
      "Car type Ford, fuel consumption:23\n",
      "__________\n"
     ]
    },
    {
     "data": {
      "text/plain": [
       "True"
      ]
     },
     "execution_count": 48,
     "metadata": {},
     "output_type": "execute_result"
    }
   ],
   "source": [
    "class Car:\n",
    "    modek = None\n",
    "    fuel = None\n",
    "    \n",
    "    def __init__(self, model, fuel_consumplion):\n",
    "        self.model = model\n",
    "        self.fuel = fuel_consumplion\n",
    "\n",
    "    def print_fuel_consumption(self):\n",
    "        print(f'the car fuel consuption is: {self.fuel}')\n",
    "            \n",
    "    def __str__(self):\n",
    "        return f'Car type {self.model}, fuel consumption:{self.fuel}'\n",
    "    \n",
    "    def __add__(self, other):\n",
    "        new_fuel = self.fuel + other.fuel\n",
    "        return Car(self.model,new_fuel)\n",
    "    \n",
    "    def __eq__ (self, other):\n",
    "        return self.model == other.model                   \n",
    "                   \n",
    "car1 = Car('Ford', 12)\n",
    "car2 = Car('Mazda', 11)\n",
    "\n",
    "# print(car1.model)\n",
    "# print(car2.fuel)\n",
    "cars = [car1,car2]\n",
    "for i in cars:\n",
    "     print(f'{i.model}= {i.fuel}')\n",
    "    \n",
    "\n",
    "        \n",
    "car1.print_fuel_consumption()     \n",
    "car2.print_fuel_consumption()    \n",
    "print(\"_\"*10)\n",
    "print(car1)\n",
    "\n",
    "print(\"_\"*10)\n",
    "car3 = car1 + car2\n",
    "print(car3)\n",
    "\n",
    "print(\"_\"*10)\n",
    "car3 == car1"
   ]
  },
  {
   "cell_type": "code",
   "execution_count": null,
   "id": "3e96f0a5",
   "metadata": {},
   "outputs": [],
   "source": [
    "'''\n",
    "define new class named Point.\n",
    "should have two att x, y \n",
    "and when we print it, it will print 'x val is {x} y val is {y}'\n",
    "and when we add two points it will add it's x and y val\n",
    "'''"
   ]
  },
  {
   "cell_type": "code",
   "execution_count": 51,
   "id": "5106af55",
   "metadata": {},
   "outputs": [
    {
     "name": "stdout",
     "output_type": "stream",
     "text": [
      "Point1 x val is 1 y val is 3\n",
      "Point2 x val is 30 y val is 10\n",
      "NEW x val is 31 y val is 13\n"
     ]
    },
    {
     "data": {
      "text/plain": [
       "True"
      ]
     },
     "execution_count": 51,
     "metadata": {},
     "output_type": "execute_result"
    }
   ],
   "source": [
    "class Point:\n",
    "    def __init__(self,x,y,name):\n",
    "        self.x = x\n",
    "        self.y = y\n",
    "        self.name = name\n",
    "     \n",
    "    def __str__(self):\n",
    "        return f'{self.name} x val is {self.x} y val is {self.y}'\n",
    "    \n",
    "    def __add__(self,other):\n",
    "        new_val_x = self.x + other.x\n",
    "        new_val_y = self.y + other.y\n",
    "        return Point(new_val_x,new_val_y, \"NEW\"  )   \n",
    "    \n",
    "    def __eq__(self, other):\n",
    "        x_eq = self.x == other.x\n",
    "        y_eq = self.y == other.y\n",
    "        return x_eq and y_eq\n",
    "    \n",
    "Point1 = Point( 1,3, \"Point1\")\n",
    "Point2 = Point( 30,10, \"Point2\")\n",
    "Point4 = Point( 30,10, \"Point4\")\n",
    "\n",
    "print(Point1)\n",
    "print(Point2)\n",
    "\n",
    "Point3 = Point1 + Point2\n",
    "print(Point3)\n",
    "        \n",
    "Point2 == Point4        \n",
    "        "
   ]
  },
  {
   "cell_type": "code",
   "execution_count": 65,
   "id": "e516d2a3",
   "metadata": {},
   "outputs": [
    {
     "name": "stdout",
     "output_type": "stream",
     "text": [
      "x val is 0 y val is 0\n"
     ]
    }
   ],
   "source": [
    "class P_Point:\n",
    "    \n",
    "    color = None\n",
    "    \n",
    "    def __init__(self, x, y):\n",
    "        self.__x = x\n",
    "        self.y = y\n",
    "    \n",
    "    def __str__(self):\n",
    "        return f'x val is {self.__x} y val is {self.y}'\n",
    "    \n",
    "    def set_x(self,new_x):\n",
    "        self.__x = new_x\n",
    "        \n",
    "#     def __copy__(self, other):\n",
    "#         other.x = self.x\n",
    "#         other.y = self.y\n",
    "#         return Point(other.x, other.y)\n",
    "    \n",
    "    def copy(self, other):\n",
    "        self.__x = other.__x \n",
    "        self.y = other.y\n",
    "        return \n",
    "        \n",
    "        \n",
    "# p_p1 = P_Point(0, 0)\n",
    "# print(p_p1)\n",
    "# p_p1.set_x(1)\n",
    "# print(p_p1)\n",
    "\n",
    "p5 = P_Point(0, 0)\n",
    "p6 = P_Point(10, 10)\n",
    "p6.copy(p5)\n",
    "\n",
    "print(p6)\n",
    "\n"
   ]
  },
  {
   "cell_type": "code",
   "execution_count": 68,
   "id": "889ac356",
   "metadata": {},
   "outputs": [
    {
     "data": {
      "text/plain": [
       "5"
      ]
     },
     "execution_count": 68,
     "metadata": {},
     "output_type": "execute_result"
    }
   ],
   "source": [
    "x=5\n",
    "x"
   ]
  },
  {
   "cell_type": "code",
   "execution_count": null,
   "id": "15d078fb",
   "metadata": {},
   "outputs": [],
   "source": []
  },
  {
   "cell_type": "code",
   "execution_count": null,
   "id": "7068e8df",
   "metadata": {},
   "outputs": [],
   "source": []
  },
  {
   "cell_type": "code",
   "execution_count": null,
   "id": "5476d3c8",
   "metadata": {},
   "outputs": [],
   "source": []
  }
 ],
 "metadata": {
  "kernelspec": {
   "display_name": "Python 3 (ipykernel)",
   "language": "python",
   "name": "python3"
  },
  "language_info": {
   "codemirror_mode": {
    "name": "ipython",
    "version": 3
   },
   "file_extension": ".py",
   "mimetype": "text/x-python",
   "name": "python",
   "nbconvert_exporter": "python",
   "pygments_lexer": "ipython3",
   "version": "3.10.9"
  }
 },
 "nbformat": 4,
 "nbformat_minor": 5
}
