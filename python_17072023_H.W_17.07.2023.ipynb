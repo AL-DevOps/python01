{
 "cells": [
  {
   "cell_type": "markdown",
   "id": "feaa6ad4",
   "metadata": {},
   "source": [
    "<h2>HomeWork</h2>\n",
    "1. Write a Python function that takes a sequence of numbers and determines whether all the numbers are different from each other. Click me to see the sample solution\n",
    "\n",
    "2. Write a Python program that creates all possible strings using the letters 'a', 'e', 'i', 'o', and 'I'. Ensure that each character is used only once. Click me to see the sample solution\n",
    "\n",
    "3. Write a Python program that removes and prints every third number from a list of numbers until the list is empty. Click me to see the sample solution\n",
    "\n",
    "4. Write a Python program to identify unique triplets whose three elements sum to zero from an array of n integers. Click me to see the sample solution\n",
    "\n",
    "5. Write a Python program to make combinations of 3 digits. Click me to see the sample solution\n",
    "\n",
    "BONUS: !!!! RECURSION !!!!\n",
    "\n",
    "6. Write a Python program to calculate the sum of a list of numbers."
   ]
  },
  {
   "cell_type": "code",
   "execution_count": 4,
   "id": "c9c15fdd",
   "metadata": {},
   "outputs": [
    {
     "name": "stdout",
     "output_type": "stream",
     "text": [
      "{1, 2, 5, 6, 9, 12}\n",
      "False\n"
     ]
    }
   ],
   "source": [
    "# 1  in = [1, 12, 2, 5, 5, 6 , 9], out = False; in = [1, 12, 2, 5, 6 , 9], out = True\n",
    "list1 = [1, 12, 2, 5, 5, 6 , 9]\n",
    "list2 = set(list1)\n",
    "print(list2)\n",
    "if list1 == list2:\n",
    "    print(True)\n",
    "else:\n",
    "    print(False)\n"
   ]
  },
  {
   "cell_type": "code",
   "execution_count": 31,
   "id": "64db6ce9",
   "metadata": {},
   "outputs": [
    {
     "name": "stdout",
     "output_type": "stream",
     "text": [
      "True\n"
     ]
    }
   ],
   "source": [
    "# 1  in = [1, 12, 2, 5, 5, 6 , 9], out = False; in = [1, 12, 2, 5, 6 , 9], out = True\n",
    "list1 = [1, 12, 2, 5,  6 , 9]\n",
    "Response = True\n",
    "for i in range(len(list1)):\n",
    "    for j in range(len(list1[i+1:])):\n",
    "         if list1[i]==list1[i+j+1]:\n",
    "            Response = False\n",
    "            break\n",
    "            \n",
    "print(Response)            \n",
    "    \n",
    "# if list1 == list2:\n",
    "#     print(True)\n",
    "# else:\n",
    "#     print(False)\n"
   ]
  },
  {
   "cell_type": "code",
   "execution_count": 36,
   "id": "c511d5c4",
   "metadata": {},
   "outputs": [
    {
     "name": "stdout",
     "output_type": "stream",
     "text": [
      "['ae', 'ai', 'ao', 'aI', 'ei', 'eo', 'eI', 'io', 'iI', 'oI']\n"
     ]
    }
   ],
   "source": [
    "# 2  in = [ 'a', 'e', 'i', 'o', 'I']\n",
    "list2 = ['a', 'e', 'i', 'o', 'I']\n",
    "list3=[]\n",
    "for i in range(len(list2)):\n",
    "    for j in range(len(list2[i+1:])):\n",
    "         list3.append(list2[i]+list2[i+j+1]) \n",
    "print(list3)         "
   ]
  },
  {
   "cell_type": "code",
   "execution_count": 56,
   "id": "f58732e8",
   "metadata": {},
   "outputs": [
    {
     "name": "stdout",
     "output_type": "stream",
     "text": [
      "lst_del = [4, 64, 88, 109, 654]\n",
      "lst_new = [1, 3, 54, 56, 76, 78, 98, 106, 164, 194, 764, 804]\n"
     ]
    }
   ],
   "source": [
    "# 3 Write a Python program that removes and prints every third number from a list of\n",
    "# numbers until the list is empty. \n",
    "\n",
    "lst4 = [1, 3, 4, 54, 56,64,76,78,88,98, 106,109,164,194,654,764,804]\n",
    "lst_del = []\n",
    "lst_new = []\n",
    "for i in range (len(lst4)):\n",
    "    if (i+1)%3==0:\n",
    "        lst_del.append(lst4[i])\n",
    "\n",
    "    else :\n",
    "        lst_new.append(lst4[i])\n",
    "        \n",
    "print('lst_del =', lst_del)\n",
    "print(f'lst_new = {lst_new}')\n",
    "\n"
   ]
  },
  {
   "cell_type": "code",
   "execution_count": 69,
   "id": "b628ced5",
   "metadata": {},
   "outputs": [
    {
     "name": "stdout",
     "output_type": "stream",
     "text": [
      " i=2, j=1, x=0\n",
      " list1[i]=4, list1[j]=3, list1[x]=1\n",
      " i=3, j=1, x=0\n",
      " list1[i]=54, list1[j]=3, list1[x]=1\n",
      " i=3, j=2, x=0\n",
      " list1[i]=54, list1[j]=4, list1[x]=1\n",
      " i=3, j=2, x=1\n",
      " list1[i]=54, list1[j]=4, list1[x]=3\n",
      " i=4, j=1, x=0\n",
      " list1[i]=-54, list1[j]=3, list1[x]=1\n",
      " i=4, j=2, x=0\n",
      " list1[i]=-54, list1[j]=4, list1[x]=1\n",
      " i=4, j=2, x=1\n",
      " list1[i]=-54, list1[j]=4, list1[x]=3\n",
      " i=4, j=3, x=0\n",
      " list1[i]=-54, list1[j]=54, list1[x]=1\n",
      " i=4, j=3, x=1\n",
      " list1[i]=-54, list1[j]=54, list1[x]=3\n",
      " i=4, j=3, x=2\n",
      " list1[i]=-54, list1[j]=54, list1[x]=4\n",
      " i=5, j=1, x=0\n",
      " list1[i]=0, list1[j]=3, list1[x]=1\n",
      " i=5, j=2, x=0\n",
      " list1[i]=0, list1[j]=4, list1[x]=1\n",
      " i=5, j=2, x=1\n",
      " list1[i]=0, list1[j]=4, list1[x]=3\n",
      " i=5, j=3, x=0\n",
      " list1[i]=0, list1[j]=54, list1[x]=1\n",
      " i=5, j=3, x=1\n",
      " list1[i]=0, list1[j]=54, list1[x]=3\n",
      " i=5, j=3, x=2\n",
      " list1[i]=0, list1[j]=54, list1[x]=4\n",
      " i=5, j=4, x=0\n",
      " list1[i]=0, list1[j]=-54, list1[x]=1\n",
      " i=5, j=4, x=1\n",
      " list1[i]=0, list1[j]=-54, list1[x]=3\n",
      " i=5, j=4, x=2\n",
      " list1[i]=0, list1[j]=-54, list1[x]=4\n",
      " i=5, j=4, x=3\n",
      " list1[i]=0, list1[j]=-54, list1[x]=54\n",
      "True\n"
     ]
    }
   ],
   "source": [
    "#4. Write a Python program to identify unique triplets whose three elements sum to zero from an array of n integers. \n",
    "# [1, 3, 4, 54, -54, 0]\n",
    "list1 = [1, 3, 4, 54, -54, 0]\n",
    "for i in range(len(list1)):\n",
    "    for j in  range (i):                     #range(len(list1[i+1:-1])):\n",
    "        for x in range (j):                 #(len(list1[j+2:-1])):\n",
    "            \n",
    "            print(f' i={i}, j={j}, x={x}')\n",
    "            print(f' list1[i]={list1[i]}, list1[j]={list1[j]}, list1[x]={list1[x]}')\n",
    "            if list1[i]+list1[j]+list1[x]==0:\n",
    "                print(True)\n",
    "                \n",
    "                "
   ]
  },
  {
   "cell_type": "code",
   "execution_count": 138,
   "id": "2f15b425",
   "metadata": {},
   "outputs": [
    {
     "name": "stdout",
     "output_type": "stream",
     "text": [
      "535\n"
     ]
    }
   ],
   "source": [
    "#5 . Write a Python program to make combinations of 3 digits.\n",
    "import random \n",
    "list1=[5,3,9]\n",
    "\n",
    "\n",
    "print (f'{list1[random.randint(0, 2)]}{list1[random.randint(0, 2)]}{list1[random.randint(0, 2)]}')\n"
   ]
  }
 ],
 "metadata": {
  "kernelspec": {
   "display_name": "Python 3 (ipykernel)",
   "language": "python",
   "name": "python3"
  },
  "language_info": {
   "codemirror_mode": {
    "name": "ipython",
    "version": 3
   },
   "file_extension": ".py",
   "mimetype": "text/x-python",
   "name": "python",
   "nbconvert_exporter": "python",
   "pygments_lexer": "ipython3",
   "version": "3.10.9"
  }
 },
 "nbformat": 4,
 "nbformat_minor": 5
}
