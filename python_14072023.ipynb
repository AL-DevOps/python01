{
 "cells": [
  {
   "cell_type": "code",
   "execution_count": 9,
   "id": "158d7eab",
   "metadata": {},
   "outputs": [
    {
     "name": "stdout",
     "output_type": "stream",
     "text": [
      "[0, 1]\n"
     ]
    }
   ],
   "source": [
    "# Fibonachi\n",
    "def fib_series(n):\n",
    "    res = [0, 1]\n",
    "    if n == 1:\n",
    "        return [0]\n",
    "    if n == 0:\n",
    "        return []\n",
    "    for i in range(2, n):\n",
    "        res.append(res[i-1] + res[i-2])\n",
    "    \n",
    "    \n",
    "    return res\n",
    "\n",
    "n =2\n",
    "print (fib_series(n))"
   ]
  },
  {
   "cell_type": "code",
   "execution_count": 26,
   "id": "474b57f9",
   "metadata": {},
   "outputs": [],
   "source": [
    "# Fibonachi + generator\n",
    "def fib_gen(n):\n",
    "    res = [0, 1]\n",
    "    if n == 1:\n",
    "        return [0]\n",
    "    if n == 0:\n",
    "        return []\n",
    "    for i in range(2, n):\n",
    "        yield res.append(res[i-1] + res[i-2])\n",
    "        print (res)\n",
    "\n"
   ]
  },
  {
   "cell_type": "code",
   "execution_count": 31,
   "id": "cc41a39a",
   "metadata": {},
   "outputs": [
    {
     "name": "stdout",
     "output_type": "stream",
     "text": [
      "[0, 1, 1]\n",
      "[0, 1, 1, 2]\n",
      "[0, 1, 1, 2, 3]\n",
      "[0, 1, 1, 2, 3, 5]\n",
      "[0, 1, 1, 2, 3, 5, 8]\n",
      "[0, 1, 1, 2, 3, 5, 8, 13]\n",
      "[0, 1, 1, 2, 3, 5, 8, 13, 21]\n"
     ]
    }
   ],
   "source": [
    "gen = fib_gen(12)\n",
    "for _ in range(n-2):\n",
    "    next(gen)"
   ]
  },
  {
   "cell_type": "code",
   "execution_count": null,
   "id": "b7cd1475",
   "metadata": {},
   "outputs": [],
   "source": [
    "# Recursion"
   ]
  },
  {
   "cell_type": "code",
   "execution_count": 38,
   "id": "7fb2e769",
   "metadata": {
    "scrolled": true
   },
   "outputs": [
    {
     "name": "stdout",
     "output_type": "stream",
     "text": [
      "y= -1\n",
      "x= 0\n",
      "y= -1\n",
      "x= 1\n"
     ]
    },
    {
     "data": {
      "text/plain": [
       "-1"
      ]
     },
     "execution_count": 38,
     "metadata": {},
     "output_type": "execute_result"
    }
   ],
   "source": [
    "def func(x):\n",
    "    if x< 0:\n",
    "        return x\n",
    "    else:\n",
    "        y = func(x-1)\n",
    "        print(\"y=\" ,y)\n",
    "        print(\"x=\" ,x)\n",
    "        return y\n",
    "func(1)"
   ]
  },
  {
   "cell_type": "code",
   "execution_count": 40,
   "id": "955e3bf0",
   "metadata": {},
   "outputs": [],
   "source": [
    "# recursion fibonaci"
   ]
  },
  {
   "cell_type": "code",
   "execution_count": 43,
   "id": "0ea1aa6f",
   "metadata": {},
   "outputs": [
    {
     "ename": "TypeError",
     "evalue": "recur_fibo() takes 0 positional arguments but 1 was given",
     "output_type": "error",
     "traceback": [
      "\u001b[1;31m---------------------------------------------------------------------------\u001b[0m",
      "\u001b[1;31mTypeError\u001b[0m                                 Traceback (most recent call last)",
      "Cell \u001b[1;32mIn[43], line 7\u001b[0m\n\u001b[0;32m      4\u001b[0m     \u001b[38;5;28;01melse\u001b[39;00m:\n\u001b[0;32m      5\u001b[0m         \u001b[38;5;28;01mreturn\u001b[39;00m(recur_fibo(n\u001b[38;5;241m-\u001b[39m\u001b[38;5;241m1\u001b[39m)\u001b[38;5;241m+\u001b[39mrecur_fibo(n\u001b[38;5;241m-\u001b[39m\u001b[38;5;241m2\u001b[39m))\n\u001b[1;32m----> 7\u001b[0m \u001b[43mrecur_fibo\u001b[49m\u001b[43m(\u001b[49m\u001b[38;5;241;43m2\u001b[39;49m\u001b[43m)\u001b[49m\n",
      "\u001b[1;31mTypeError\u001b[0m: recur_fibo() takes 0 positional arguments but 1 was given"
     ]
    }
   ],
   "source": [
    "def recur_fibo():\n",
    "    if n<=1:\n",
    "        return n\n",
    "    else:\n",
    "        return(recur_fibo(n-1)+recur_fibo(n-2))\n",
    "\n",
    "recur_fibo(2)\n"
   ]
  },
  {
   "cell_type": "code",
   "execution_count": 47,
   "id": "80ee372b",
   "metadata": {},
   "outputs": [],
   "source": [
    "from collections import defaultdict"
   ]
  },
  {
   "cell_type": "code",
   "execution_count": 61,
   "id": "7cfc1475",
   "metadata": {},
   "outputs": [
    {
     "data": {
      "text/plain": [
       "dict_items([('a', 1), ('b', 2), ('c', 3)])"
      ]
     },
     "execution_count": 61,
     "metadata": {},
     "output_type": "execute_result"
    }
   ],
   "source": [
    "d = {\"a\":1 , \"b\":2 , \"c\":3}\n",
    "type(d)\n",
    "d.items()\n",
    "#for k,v in d:\n",
    "#    print(k)"
   ]
  },
  {
   "cell_type": "code",
   "execution_count": 65,
   "id": "137a7a87",
   "metadata": {},
   "outputs": [
    {
     "name": "stdout",
     "output_type": "stream",
     "text": [
      "defaultdict(<class 'list'>, {})\n",
      "defaultdict(<class 'list'>, {'yellow': [1, 2, 5, 9], 'blue': [10, 9, 20]})\n"
     ]
    },
    {
     "data": {
      "text/plain": [
       "dict_items([('yellow', [1, 2, 5, 9]), ('blue', [10, 9, 20])])"
      ]
     },
     "execution_count": 65,
     "metadata": {},
     "output_type": "execute_result"
    }
   ],
   "source": [
    "lst =[('yellow',1),('yellow',2),('yellow',5),('yellow',9),('blue',10),('blue',9),('blue',20)]\n",
    "d1 = defaultdict(list)\n",
    "print(d1)\n",
    "for k,v in lst:\n",
    "    d1[k].append(v)\n",
    "\n",
    "print(d1)\n",
    "d1.items()"
   ]
  },
  {
   "cell_type": "code",
   "execution_count": 67,
   "id": "280104eb",
   "metadata": {},
   "outputs": [
    {
     "data": {
      "text/plain": [
       "[10, 9, 20]"
      ]
     },
     "execution_count": 67,
     "metadata": {},
     "output_type": "execute_result"
    }
   ],
   "source": [
    "from collections import OrderedDict\n",
    "order_dict = OrderedDict(sorted(d1.items(), key = lambda t:t[0]))\n",
    "sorted_d1 = sorted(d1.items(), key= lambda x:x[0])\n",
    "order_dict =OrderedDict(sorted_d1)\n",
    "order_dict['blue']"
   ]
  },
  {
   "cell_type": "code",
   "execution_count": 73,
   "id": "fe6c47ae",
   "metadata": {},
   "outputs": [
    {
     "name": "stdout",
     "output_type": "stream",
     "text": [
      "1\n",
      "2\n"
     ]
    }
   ],
   "source": [
    "class Rectangle:\n",
    "    def __init__(self, h, w):\n",
    "        self.h = h\n",
    "        self.w = w\n",
    "r1 = Rectangle (1,1)       \n",
    "r2 = Rectangle (2,2) \n",
    "\n",
    "print(r1.h)\n",
    "print(r2.h)"
   ]
  },
  {
   "cell_type": "code",
   "execution_count": 75,
   "id": "aed8868c",
   "metadata": {},
   "outputs": [
    {
     "data": {
      "text/plain": [
       "2230421291376"
      ]
     },
     "execution_count": 75,
     "metadata": {},
     "output_type": "execute_result"
    }
   ],
   "source": [
    "x = 5\n",
    "id(x)"
   ]
  },
  {
   "cell_type": "code",
   "execution_count": 78,
   "id": "6e1c4ff1",
   "metadata": {},
   "outputs": [
    {
     "name": "stdout",
     "output_type": "stream",
     "text": [
      "idx= 0 v = 1\n",
      "idx= 1 v = 3\n",
      "idx= 2 v = 2\n",
      "[1, 9, 4]\n"
     ]
    }
   ],
   "source": [
    "def f(x):\n",
    "    return x * x\n",
    "\n",
    "def modify_list(L, fn):\n",
    "    for idx, v in enumerate(L):\n",
    "        print(f'idx= {idx} v = {v}')\n",
    "        L[idx] = fn(v)\n",
    "\n",
    "L = [1, 3, 2]\n",
    "modify_list(L, f)\n",
    "print(L)"
   ]
  },
  {
   "cell_type": "code",
   "execution_count": 83,
   "id": "27023d44",
   "metadata": {},
   "outputs": [
    {
     "name": "stdout",
     "output_type": "stream",
     "text": [
      "idx= 0 v = 1\n",
      "idx= 1 v = 3\n",
      "idx= 2 v = 2\n",
      "[1, 9, 4]\n"
     ]
    }
   ],
   "source": [
    "flam = lambda z: z * z\n",
    "L1 = [1, 3, 2]\n",
    "modify_list(L1, flam)\n",
    "print(L1)"
   ]
  },
  {
   "cell_type": "code",
   "execution_count": null,
   "id": "188c15e6",
   "metadata": {},
   "outputs": [],
   "source": []
  }
 ],
 "metadata": {
  "kernelspec": {
   "display_name": "Python 3 (ipykernel)",
   "language": "python",
   "name": "python3"
  },
  "language_info": {
   "codemirror_mode": {
    "name": "ipython",
    "version": 3
   },
   "file_extension": ".py",
   "mimetype": "text/x-python",
   "name": "python",
   "nbconvert_exporter": "python",
   "pygments_lexer": "ipython3",
   "version": "3.10.9"
  }
 },
 "nbformat": 4,
 "nbformat_minor": 5
}
