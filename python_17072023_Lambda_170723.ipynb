{
 "cells": [
  {
   "cell_type": "code",
   "execution_count": 6,
   "id": "74ce7a46",
   "metadata": {},
   "outputs": [
    {
     "name": "stdout",
     "output_type": "stream",
     "text": [
      "25\n"
     ]
    }
   ],
   "source": [
    "flam = lambda z: z * z\n",
    "L1 = 5\n",
    "L1 = flam(L1)\n",
    "print(L1)"
   ]
  },
  {
   "cell_type": "markdown",
   "id": "f02b1328",
   "metadata": {},
   "source": [
    "<h2>Function : MAP()<h2>"
   ]
  },
  {
   "cell_type": "code",
   "execution_count": 14,
   "id": "b307c3b9",
   "metadata": {},
   "outputs": [
    {
     "name": "stdout",
     "output_type": "stream",
     "text": [
      "[1, 4, 9, 16, 25, 36, 81]\n"
     ]
    }
   ],
   "source": [
    "L =[1,2,3,4,5,6,9]\n",
    "x = list(map(lambda x: x**2, L))\n",
    "print(x)"
   ]
  },
  {
   "cell_type": "markdown",
   "id": "1c21e90d",
   "metadata": {},
   "source": [
    "<h2>FUNCTION FILTER()<h2>"
   ]
  },
  {
   "cell_type": "code",
   "execution_count": 47,
   "id": "7e82e1db",
   "metadata": {},
   "outputs": [
    {
     "name": "stdout",
     "output_type": "stream",
     "text": [
      "[6674, 82, 4, 568]\n",
      "['Aa', 'Ca']\n"
     ]
    }
   ],
   "source": [
    "list2 =[1,45,6674,82,4,568,285,47,123]\n",
    "even_filtr= list(filter(lambda x:x%2==0, list2))    \n",
    "print(even_filtr)\n",
    "\n",
    "list3 =['Aa','Bb',\"Ca\"]\n",
    "even_filtr= list(filter(lambda x:x[1]=='a', list3))    \n",
    "print(even_filtr)\n"
   ]
  },
  {
   "cell_type": "markdown",
   "id": "2c83f063",
   "metadata": {},
   "source": [
    "<h2>SORT of Object + Lambda<h2>"
   ]
  },
  {
   "cell_type": "code",
   "execution_count": 51,
   "id": "9a3258e6",
   "metadata": {},
   "outputs": [
    {
     "name": "stdout",
     "output_type": "stream",
     "text": [
      "['Smulik', 'Al', 'David', 'Maxim']\n",
      "['David', 'Maxim']\n"
     ]
    }
   ],
   "source": [
    "class Employee:\n",
    "    def __init__(self, name, age):\n",
    "        self.name = name\n",
    "        self.age = age\n",
    "Alex = Employee('Al',20)  \n",
    "Maxim = Employee('Maxim',50)       \n",
    "David = Employee('David',40) \n",
    "Smulik = Employee('Smulik',10) \n",
    "\n",
    "\n",
    "List_of_Employee =[Alex, Maxim, David, Smulik]\n",
    "List_of_Employee.sort(key=lambda x:x.age)\n",
    "\n",
    "List_even_filtr= list(filter(lambda x:x.age>=40, List_of_Employee))    \n",
    "\n",
    "print([item.name for item in List_of_Employee])\n",
    "\n",
    "print([item.name for item in List_even_filtr])\n",
    "\n",
    "\n",
    "    "
   ]
  },
  {
   "cell_type": "code",
   "execution_count": null,
   "id": "6cc1a1cf",
   "metadata": {},
   "outputs": [],
   "source": []
  },
  {
   "cell_type": "code",
   "execution_count": null,
   "id": "9bcc1fd5",
   "metadata": {},
   "outputs": [],
   "source": []
  },
  {
   "cell_type": "code",
   "execution_count": null,
   "id": "9567e0cf",
   "metadata": {},
   "outputs": [],
   "source": []
  }
 ],
 "metadata": {
  "kernelspec": {
   "display_name": "Python 3 (ipykernel)",
   "language": "python",
   "name": "python3"
  },
  "language_info": {
   "codemirror_mode": {
    "name": "ipython",
    "version": 3
   },
   "file_extension": ".py",
   "mimetype": "text/x-python",
   "name": "python",
   "nbconvert_exporter": "python",
   "pygments_lexer": "ipython3",
   "version": "3.10.9"
  }
 },
 "nbformat": 4,
 "nbformat_minor": 5
}
