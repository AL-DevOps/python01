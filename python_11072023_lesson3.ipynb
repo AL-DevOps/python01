{
 "cells": [
  {
   "cell_type": "code",
   "execution_count": 1,
   "id": "a2d95b15",
   "metadata": {},
   "outputs": [
    {
     "name": "stdout",
     "output_type": "stream",
     "text": [
      "Not polyndrom\n"
     ]
    }
   ],
   "source": [
    "def isPolyndrom(string):\n",
    "    for i in range(len(string)):\n",
    "        reversIndex = -(i+1)\n",
    "        if(string[i] != string[reversIndex]):\n",
    "            return 'Not polyndrom'\n",
    "        \n",
    "    return 'Polyndrom'\n",
    "\n",
    "Polyndrom = isPolyndrom('abewfwefba')\n",
    "print( Polyndrom)\n"
   ]
  },
  {
   "cell_type": "code",
   "execution_count": 9,
   "id": "6142357b",
   "metadata": {},
   "outputs": [
    {
     "name": "stdout",
     "output_type": "stream",
     "text": [
      "10\n",
      "11\n"
     ]
    }
   ],
   "source": [
    "x = 9\n",
    "def func(y=10):\n",
    "    global x\n",
    "    print(x)\n",
    "    \n",
    "def func1(y=10):\n",
    "    print(x+1)\n",
    "x = 10\n",
    "\n",
    "func()\n",
    "func1()"
   ]
  },
  {
   "cell_type": "code",
   "execution_count": 18,
   "id": "bae0299d",
   "metadata": {},
   "outputs": [
    {
     "data": {
      "text/plain": [
       "(20, 0)"
      ]
     },
     "execution_count": 18,
     "metadata": {},
     "output_type": "execute_result"
    }
   ],
   "source": [
    "def outter(x,y):\n",
    "    x += 10\n",
    "    def inner(z):\n",
    "        z -=10\n",
    "        return z\n",
    "    y = inner(y)\n",
    "    return x,y\n",
    "outter (10,10)   \n"
   ]
  },
  {
   "cell_type": "markdown",
   "id": "82689d3d",
   "metadata": {},
   "source": [
    "LAMBDA\n",
    "\n"
   ]
  },
  {
   "cell_type": "code",
   "execution_count": 22,
   "id": "819b1dd2",
   "metadata": {},
   "outputs": [
    {
     "name": "stdout",
     "output_type": "stream",
     "text": [
      "1000\n"
     ]
    }
   ],
   "source": [
    "x1 = lambda x :x**3\n",
    "print( x1(10))\n"
   ]
  },
  {
   "cell_type": "markdown",
   "id": "e91be642",
   "metadata": {},
   "source": [
    "Args"
   ]
  },
  {
   "cell_type": "code",
   "execution_count": 23,
   "id": "0b1fe1d2",
   "metadata": {},
   "outputs": [
    {
     "data": {
      "text/plain": [
       "8"
      ]
     },
     "execution_count": 23,
     "metadata": {},
     "output_type": "execute_result"
    }
   ],
   "source": [
    "def new_max(*args):\n",
    "    return max(args)\n",
    "new_max(1,2,5,6,8)"
   ]
  },
  {
   "cell_type": "markdown",
   "id": "d54d35cd",
   "metadata": {},
   "source": [
    "kwargs"
   ]
  },
  {
   "cell_type": "code",
   "execution_count": 37,
   "id": "17ec18ee",
   "metadata": {},
   "outputs": [
    {
     "name": "stdout",
     "output_type": "stream",
     "text": [
      "{'a': 100, 'b': 200}\n"
     ]
    },
    {
     "ename": "AttributeError",
     "evalue": "'dict' object has no attribute 'value'",
     "output_type": "error",
     "traceback": [
      "\u001b[1;31m---------------------------------------------------------------------------\u001b[0m",
      "\u001b[1;31mAttributeError\u001b[0m                            Traceback (most recent call last)",
      "Cell \u001b[1;32mIn[37], line 5\u001b[0m\n\u001b[0;32m      2\u001b[0m     \u001b[38;5;28mprint\u001b[39m(kwargs[\u001b[38;5;241m0\u001b[39m])\n\u001b[0;32m      3\u001b[0m     \u001b[38;5;28;01mreturn\u001b[39;00m \u001b[38;5;28mmax\u001b[39m(kwargs[\u001b[38;5;241m0\u001b[39m]\u001b[38;5;241m.\u001b[39mvalue())\n\u001b[1;32m----> 5\u001b[0m max_val \u001b[38;5;241m=\u001b[39m \u001b[43mnew_max1\u001b[49m\u001b[43m(\u001b[49m\u001b[43m{\u001b[49m\u001b[38;5;124;43m\"\u001b[39;49m\u001b[38;5;124;43ma\u001b[39;49m\u001b[38;5;124;43m\"\u001b[39;49m\u001b[43m:\u001b[49m\u001b[38;5;241;43m100\u001b[39;49m\u001b[43m,\u001b[49m\u001b[43m \u001b[49m\u001b[38;5;124;43m\"\u001b[39;49m\u001b[38;5;124;43mb\u001b[39;49m\u001b[38;5;124;43m\"\u001b[39;49m\u001b[43m:\u001b[49m\u001b[38;5;241;43m200\u001b[39;49m\u001b[43m}\u001b[49m\u001b[43m)\u001b[49m\n\u001b[0;32m      6\u001b[0m \u001b[38;5;28mprint\u001b[39m (\u001b[38;5;124m'\u001b[39m\u001b[38;5;124mmax_val=\u001b[39m\u001b[38;5;124m'\u001b[39m, max_val)\n",
      "Cell \u001b[1;32mIn[37], line 3\u001b[0m, in \u001b[0;36mnew_max1\u001b[1;34m(*kwargs)\u001b[0m\n\u001b[0;32m      1\u001b[0m \u001b[38;5;28;01mdef\u001b[39;00m \u001b[38;5;21mnew_max1\u001b[39m(\u001b[38;5;241m*\u001b[39mkwargs):\n\u001b[0;32m      2\u001b[0m     \u001b[38;5;28mprint\u001b[39m(kwargs[\u001b[38;5;241m0\u001b[39m])\n\u001b[1;32m----> 3\u001b[0m     \u001b[38;5;28;01mreturn\u001b[39;00m \u001b[38;5;28mmax\u001b[39m(\u001b[43mkwargs\u001b[49m\u001b[43m[\u001b[49m\u001b[38;5;241;43m0\u001b[39;49m\u001b[43m]\u001b[49m\u001b[38;5;241;43m.\u001b[39;49m\u001b[43mvalue\u001b[49m())\n",
      "\u001b[1;31mAttributeError\u001b[0m: 'dict' object has no attribute 'value'"
     ]
    }
   ],
   "source": [
    "def new_max1(*kwargs):\n",
    "    print(kwargs[0]['a'])\n",
    "    return max(kwargs[0].value())\n",
    "\n",
    "d = {\"a\":100, \"b\":200}\n",
    "print ('max_val=', new_max1(d))"
   ]
  },
  {
   "cell_type": "markdown",
   "id": "785dd363",
   "metadata": {},
   "source": [
    "FILTER"
   ]
  },
  {
   "cell_type": "code",
   "execution_count": 40,
   "id": "c4d686c4",
   "metadata": {},
   "outputs": [
    {
     "name": "stdout",
     "output_type": "stream",
     "text": [
      "[1, 2, 3, 4, 5, 6]\n",
      "[2, 4, 6]\n"
     ]
    }
   ],
   "source": [
    "my_list= [1,2,3,4,5,6]\n",
    "filter_list= list ( filter(lambda x: x%2==0, my_list))\n",
    "print (my_list)\n",
    "print (filter_list)"
   ]
  },
  {
   "cell_type": "markdown",
   "id": "f4a79cef",
   "metadata": {},
   "source": [
    "FIBONACHI\n",
    "### Targil\n",
    "* print all fibonacci numbers up to n\n",
    "for n == 10 # 0 1 1 2 3 5 8 13 21 34\n",
    "do it with and without generator"
   ]
  },
  {
   "cell_type": "code",
   "execution_count": 43,
   "id": "8f3e37b0",
   "metadata": {},
   "outputs": [
    {
     "name": "stdout",
     "output_type": "stream",
     "text": [
      "[0, 1, 1, 2, 3, 5, 8, 13, 21, 34, 55, 89]\n"
     ]
    }
   ],
   "source": [
    "fib =[0,1]\n",
    "for x in range(10):\n",
    "    next1 = fib[x] + fib[x+1]\n",
    "    fib.append(next1)\n",
    "\n",
    "print (fib)    \n",
    "    \n",
    "    \n"
   ]
  },
  {
   "cell_type": "code",
   "execution_count": null,
   "id": "951b07b7",
   "metadata": {},
   "outputs": [],
   "source": [
    "6. Write a Python program to test a list of one hundred integers between 0 and 999, which all differ by ten from one another. Return True otherwise False.\n",
    "Input:\n",
    "[0, 10, 20, 30, 40, 50, 60, 70, 80, 90, 100, 110, 120, 130, 140, 150, 160, 170, 180, 190, 200, 210, 220, 230, 240, 250, 260, 270, 280, 290, 300, 310, 320, 330, 340, 350, 360, 370, 380, 390, 400, 410, 420, 430, 440, 450, 460, 470, 480, 490, 500, 510, 520, 530, 540, 550, 560, 570, 580, 590, 600, 610, 620, 630, 640, 650, 660, 670, 680, 690, 700, 710, 720, 730, 740, 750, 760, 770, 780, 790, 800, 810, 820, 830, 840, 850, 860, 870, 880, 890, 900, 910, 920, 930, 940, 950, 960, 970, 980, 990]\n",
    "Output:\n",
    "True\n",
    "Input:\n",
    "[0, 20, 40, 60, 80, 100, 120, 140, 160, 180, 200, 220, 240, 260, 280, 300, 320, 340, 360, 380, 400, 420, 440, 460, 480, 500, 520, 540, 560, 580, 600, 620, 640, 660, 680, 700, 720, 740, 760, 780, 800, 820, 840, 860, 880, 900, 920, 940, 960, 980]\n",
    "Output:\n",
    "False\n",
    "7. Write a Python program to check a given list of integers where the sum of the first i integers is i.\n",
    "Input:\n",
    "[0, 1, 2, 3, 4, 5]\n",
    "Output:\n",
    "False\n",
    "Input:\n",
    "[1, 1, 1, 1, 1, 1]\n",
    "Output:\n",
    "True\n",
    "Input:\n",
    "[2, 2, 2, 2, 2]\n",
    "Output:\n",
    "False\n",
    "\n",
    "\n",
    "24. Write a Python program to create a list whose ith element is the maximum of the first i elements from an input list.\n",
    "Input:\n",
    "[0, -1, 3, 8, 5, 9, 8, 14, 2, 4, 3, -10, 10, 17, 41, 22, -4, -4, -15, 0]\n",
    "Output:\n",
    "[0, 0, 3, 8, 8, 9, 9, 14, 14, 14, 14, 14, 14, 17, 41, 41, 41, 41, 41, 41]\n",
    "Input:\n",
    "[6, 5, 4, 3, 2, 1]\n",
    "Output:\n",
    "[6, 6, 6, 6, 6, 6]\n",
    "Input:\n",
    "[1, 19, 5, 15, 5, 25, 5]\n",
    "Output:\n",
    "[1, 19, 19, 19, 19, 25, 25]\n",
    "28. Write a Python program to select a string from a given list of strings with the most unique characters.\n",
    "Input:\n",
    "['cat', 'catatatatctsa', 'abcdefhijklmnop', '124259239185125', '', 'foo', 'unique']\n",
    "Output:\n",
    "abcdefhijklmnop\n",
    "Input:\n",
    "['Green', 'Red', 'Orange', 'Yellow', '', 'White']\n",
    "Output:\n",
    "Orange\n",
    "\n",
    "29. Write a Python program to find the indices of two numbers that sum to 0 in a given list of numbers.\n",
    "Input:\n",
    "[1, -4, 6, 7, 4]\n",
    "Output:\n",
    "[4, 1]\n",
    "Input:\n",
    "[1232, -20352, 12547, 12440, 741, 341, 525, 20352, 91, 20]\n",
    "Output:\n",
    "[1, 7]"
   ]
  }
 ],
 "metadata": {
  "kernelspec": {
   "display_name": "Python 3 (ipykernel)",
   "language": "python",
   "name": "python3"
  },
  "language_info": {
   "codemirror_mode": {
    "name": "ipython",
    "version": 3
   },
   "file_extension": ".py",
   "mimetype": "text/x-python",
   "name": "python",
   "nbconvert_exporter": "python",
   "pygments_lexer": "ipython3",
   "version": "3.10.9"
  }
 },
 "nbformat": 4,
 "nbformat_minor": 5
}
