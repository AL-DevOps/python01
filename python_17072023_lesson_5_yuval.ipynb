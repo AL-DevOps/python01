{
 "cells": [
  {
   "cell_type": "markdown",
   "id": "involved-jimmy",
   "metadata": {},
   "source": [
    "### Targil\n",
    "* print all fibonacci numbers up to n\n",
    "for n == 10 # 0 1 1 2 3 5 8 13 21 34\n",
    "do it with and without generator"
   ]
  },
  {
   "cell_type": "markdown",
   "id": "stylish-morgan",
   "metadata": {},
   "source": [
    "input - n -integer symbolize the length of th fib series I want\n",
    "output - n length list of fibnoccie \n",
    "\n",
    "\n",
    "def fib_series(n):\n",
    "    res = []\n",
    "    for i in range(n):\n",
    "        new_item = res[i-1] + res[i-2]\n",
    "        res[i] = new_item\n",
    "\n",
    "    return res\n",
    "\n"
   ]
  },
  {
   "cell_type": "code",
   "execution_count": 18,
   "id": "falling-closure",
   "metadata": {},
   "outputs": [],
   "source": [
    "def fib_series(n):\n",
    "    res = [0, 1]\n",
    "    for i in range(2, n):\n",
    "        res.append(res[i-1] + res[i-2])\n",
    "\n",
    "    return res\n"
   ]
  },
  {
   "cell_type": "code",
   "execution_count": 19,
   "id": "organized-engine",
   "metadata": {},
   "outputs": [
    {
     "name": "stdout",
     "output_type": "stream",
     "text": [
      "[0, 1, 1, 1, 1, 2, 2, 2, 3, 4]\n"
     ]
    }
   ],
   "source": [
    "n = 10 # 0 1 1 2 3 5 8 13 21 34\n",
    "print(fib_series(n))"
   ]
  },
  {
   "cell_type": "code",
   "execution_count": 24,
   "id": "essential-bathroom",
   "metadata": {},
   "outputs": [
    {
     "name": "stdout",
     "output_type": "stream",
     "text": [
      "[0, 1, 1, 2, 3, 5, 8, 13, 21, 34]\n"
     ]
    }
   ],
   "source": [
    "n = 10\n",
    "\n",
    "def fibo(n):\n",
    "    start_fibo = [0, 1]\n",
    "    if n == 1:\n",
    "        return [0]\n",
    "    if n == 0:\n",
    "        return []\n",
    "    for i in range(n-2):\n",
    "        next_fibo = start_fibo[-1] + start_fibo[-2]\n",
    "        start_fibo.append(next_fibo)\n",
    "    return start_fibo\n",
    "\n",
    "print(fibo(n))"
   ]
  },
  {
   "cell_type": "code",
   "execution_count": null,
   "id": "parallel-momentum",
   "metadata": {},
   "outputs": [],
   "source": []
  },
  {
   "cell_type": "code",
   "execution_count": null,
   "id": "pending-stationery",
   "metadata": {},
   "outputs": [],
   "source": []
  },
  {
   "cell_type": "code",
   "execution_count": null,
   "id": "transparent-google",
   "metadata": {},
   "outputs": [],
   "source": []
  },
  {
   "cell_type": "code",
   "execution_count": 1,
   "id": "arctic-ultimate",
   "metadata": {},
   "outputs": [],
   "source": [
    "def fibonacci(n):\n",
    "    res = [0, 1]\n",
    "    if n < 2:\n",
    "        print(res)\n",
    "    else:\n",
    "        for i in range(2, n):\n",
    "            res.append(res[i-1] + res[i-2])\n",
    "        \n",
    "        print(res)"
   ]
  },
  {
   "cell_type": "code",
   "execution_count": 2,
   "id": "north-aerospace",
   "metadata": {},
   "outputs": [
    {
     "name": "stdout",
     "output_type": "stream",
     "text": [
      "[0, 1, 1, 2, 3, 5, 8, 13, 21, 34]\n"
     ]
    }
   ],
   "source": [
    "fibonacci(10)"
   ]
  },
  {
   "cell_type": "code",
   "execution_count": 25,
   "id": "stuck-burns",
   "metadata": {},
   "outputs": [
    {
     "data": {
      "text/plain": [
       "[0, 1, 1, 2, 3, 5, 8]"
      ]
     },
     "execution_count": 25,
     "metadata": {},
     "output_type": "execute_result"
    }
   ],
   "source": [
    "def fibonacci_with_generator(n):\n",
    "    a = 0\n",
    "    b = 1\n",
    "    while a <= n:\n",
    "        yield a\n",
    "        temp = a\n",
    "        a = b\n",
    "        b = temp + b\n",
    "\n",
    "fib_seq_with_gen = list(fibonacci_with_generator(n))\n",
    "\n",
    "fib_seq_with_gen"
   ]
  },
  {
   "cell_type": "code",
   "execution_count": 27,
   "id": "instructional-rebel",
   "metadata": {},
   "outputs": [],
   "source": [
    "### with generator:\n",
    "\n",
    "n = 10\n",
    "\n",
    "def gen_fibo(n):\n",
    "    n1, n2 = 0, 1\n",
    "    for i in range(n):\n",
    "        yield n1\n",
    "        n1, n2 = n2, n1 + n2\n",
    "\n"
   ]
  },
  {
   "cell_type": "code",
   "execution_count": 28,
   "id": "related-beginning",
   "metadata": {},
   "outputs": [
    {
     "name": "stdout",
     "output_type": "stream",
     "text": [
      "0\n",
      "1\n",
      "1\n",
      "2\n",
      "3\n",
      "5\n",
      "8\n",
      "13\n",
      "21\n",
      "34\n"
     ]
    }
   ],
   "source": [
    "result_fibo = gen_fibo(n)\n",
    "for i in result_fibo:\n",
    "        print(i)"
   ]
  },
  {
   "cell_type": "code",
   "execution_count": 65,
   "id": "instrumental-welcome",
   "metadata": {},
   "outputs": [],
   "source": [
    "def fibonacci_gen(n):\n",
    "    res = [0, 1]\n",
    "    if n < 2:\n",
    "        print(res)\n",
    "    else:\n",
    "        for i in range(2, n):\n",
    "#             print(res)            \n",
    "            yield res.append(res[i-1] + res[i-2])\n",
    "            print(res)            \n",
    "\n",
    "\n",
    "    return -1\n"
   ]
  },
  {
   "cell_type": "code",
   "execution_count": 72,
   "id": "orange-transsexual",
   "metadata": {},
   "outputs": [],
   "source": [
    "gen = fibonacci_gen(10)"
   ]
  },
  {
   "cell_type": "code",
   "execution_count": 73,
   "id": "exempt-program",
   "metadata": {},
   "outputs": [
    {
     "name": "stdout",
     "output_type": "stream",
     "text": [
      "[0, 1, 1]\n",
      "[0, 1, 1, 2]\n",
      "[0, 1, 1, 2, 3]\n",
      "[0, 1, 1, 2, 3, 5]\n",
      "[0, 1, 1, 2, 3, 5, 8]\n",
      "[0, 1, 1, 2, 3, 5, 8, 13]\n",
      "[0, 1, 1, 2, 3, 5, 8, 13, 21]\n",
      "[0, 1, 1, 2, 3, 5, 8, 13, 21, 34]\n"
     ]
    },
    {
     "ename": "StopIteration",
     "evalue": "-1",
     "output_type": "error",
     "traceback": [
      "\u001b[1;31m---------------------------------------------------------------------------\u001b[0m",
      "\u001b[1;31mStopIteration\u001b[0m                             Traceback (most recent call last)",
      "\u001b[1;32m<ipython-input-73-4ed415665d88>\u001b[0m in \u001b[0;36m<module>\u001b[1;34m\u001b[0m\n\u001b[0;32m      1\u001b[0m \u001b[1;32mfor\u001b[0m \u001b[0m_\u001b[0m \u001b[1;32min\u001b[0m \u001b[0mrange\u001b[0m\u001b[1;33m(\u001b[0m\u001b[0mn\u001b[0m\u001b[1;33m-\u001b[0m\u001b[1;36m1\u001b[0m\u001b[1;33m)\u001b[0m\u001b[1;33m:\u001b[0m\u001b[1;33m\u001b[0m\u001b[1;33m\u001b[0m\u001b[0m\n\u001b[1;32m----> 2\u001b[1;33m     \u001b[0mx\u001b[0m \u001b[1;33m=\u001b[0m \u001b[0mnext\u001b[0m\u001b[1;33m(\u001b[0m\u001b[0mgen\u001b[0m\u001b[1;33m)\u001b[0m\u001b[1;33m\u001b[0m\u001b[1;33m\u001b[0m\u001b[0m\n\u001b[0m\u001b[0;32m      3\u001b[0m \u001b[0mprint\u001b[0m\u001b[1;33m(\u001b[0m\u001b[0mx\u001b[0m\u001b[1;33m)\u001b[0m\u001b[1;33m\u001b[0m\u001b[1;33m\u001b[0m\u001b[0m\n",
      "\u001b[1;31mStopIteration\u001b[0m: -1"
     ]
    }
   ],
   "source": [
    "for _ in range(n-1):\n",
    "    x = next(gen)\n",
    "print(x)"
   ]
  },
  {
   "cell_type": "code",
   "execution_count": 69,
   "id": "stopped-commander",
   "metadata": {},
   "outputs": [
    {
     "ename": "StopIteration",
     "evalue": "",
     "output_type": "error",
     "traceback": [
      "\u001b[1;31m---------------------------------------------------------------------------\u001b[0m",
      "\u001b[1;31mStopIteration\u001b[0m                             Traceback (most recent call last)",
      "\u001b[1;32m<ipython-input-69-a0c7f71c8447>\u001b[0m in \u001b[0;36m<module>\u001b[1;34m\u001b[0m\n\u001b[1;32m----> 1\u001b[1;33m \u001b[0mnext\u001b[0m\u001b[1;33m(\u001b[0m\u001b[0mgen\u001b[0m\u001b[1;33m)\u001b[0m\u001b[1;33m\u001b[0m\u001b[1;33m\u001b[0m\u001b[0m\n\u001b[0m\u001b[0;32m      2\u001b[0m \u001b[0mnext\u001b[0m\u001b[1;33m(\u001b[0m\u001b[0mgen\u001b[0m\u001b[1;33m)\u001b[0m\u001b[1;33m\u001b[0m\u001b[1;33m\u001b[0m\u001b[0m\n\u001b[0;32m      3\u001b[0m \u001b[0mnext\u001b[0m\u001b[1;33m(\u001b[0m\u001b[0mgen\u001b[0m\u001b[1;33m)\u001b[0m\u001b[1;33m\u001b[0m\u001b[1;33m\u001b[0m\u001b[0m\n\u001b[0;32m      4\u001b[0m \u001b[0mnext\u001b[0m\u001b[1;33m(\u001b[0m\u001b[0mgen\u001b[0m\u001b[1;33m)\u001b[0m\u001b[1;33m\u001b[0m\u001b[1;33m\u001b[0m\u001b[0m\n\u001b[0;32m      5\u001b[0m \u001b[0mnext\u001b[0m\u001b[1;33m(\u001b[0m\u001b[0mgen\u001b[0m\u001b[1;33m)\u001b[0m\u001b[1;33m\u001b[0m\u001b[1;33m\u001b[0m\u001b[0m\n",
      "\u001b[1;31mStopIteration\u001b[0m: "
     ]
    }
   ],
   "source": [
    "next(gen)\n",
    "next(gen)\n",
    "next(gen)\n",
    "next(gen)\n",
    "next(gen)\n",
    "next(gen)\n",
    "next(gen)\n",
    "next(gen)\n",
    "print('function ended')\n",
    "next(gen)"
   ]
  },
  {
   "cell_type": "code",
   "execution_count": null,
   "id": "worldwide-session",
   "metadata": {},
   "outputs": [],
   "source": [
    "next(gen)\n",
    "next(gen)"
   ]
  },
  {
   "cell_type": "code",
   "execution_count": null,
   "id": "consistent-tomorrow",
   "metadata": {},
   "outputs": [],
   "source": []
  },
  {
   "cell_type": "markdown",
   "id": "national-executive",
   "metadata": {},
   "source": [
    "6. Write a Python program to test a list of one hundred integers between 0 and 999, which all differ by ten from one another. Return True otherwise False.\n",
    "Input:\n",
    "[0, 10, 20, 30, 40, 50, 60, 70, 80, 90, 100, 110, 120, 130, 140, 150, 160, 170, 180, 190, 200, 210, 220, 230, 240, 250, 260, 270, 280, 290, 300, 310, 320, 330, 340, 350, 360, 370, 380, 390, 400, 410, 420, 430, 440, 450, 460, 470, 480, 490, 500, 510, 520, 530, 540, 550, 560, 570, 580, 590, 600, 610, 620, 630, 640, 650, 660, 670, 680, 690, 700, 710, 720, 730, 740, 750, 760, 770, 780, 790, 800, 810, 820, 830, 840, 850, 860, 870, 880, 890, 900, 910, 920, 930, 940, 950, 960, 970, 980, 990]\n",
    "Output:\n",
    "True\n",
    "Input:\n",
    "[0, 20, 40, 60, 80, 100, 120, 140, 160, 180, 200, 220, 240, 260, 280, 300, 320, 340, 360, 380, 400, 420, 440, 460, 480, 500, 520, 540, 560, 580, 600, 620, 640, 660, 680, 700, 720, 740, 760, 780, 800, 820, 840, 860, 880, 900, 920, 940, 960, 980]\n",
    "Output:\n",
    "False\n",
    "\n",
    "7. Write a Python program to check a given list of integers where the sum of the first i integers is i.\n",
    "Input:\n",
    "[0, 1, 2, 3, 4, 5]\n",
    "Output:\n",
    "False\n",
    "Input:\n",
    "[1, 1, 1, 1, 1, 1]\n",
    "Output:\n",
    "True\n",
    "Input:\n",
    "[2, 2, 2, 2, 2]\n",
    "Output:\n",
    "False\n",
    "\n",
    "\n",
    "24. Write a Python program to create a list whose ith element is the maximum of the first i elements from an input list.\n",
    "Input:\n",
    "[0, -1, 3, 8, 5, 9, 8, 14, 2, 4, 3, -10, 10, 17, 41, 22, -4, -4, -15, 0]\n",
    "Output:\n",
    "[0, 0, 3, 8, 8, 9, 9, 14, 14, 14, 14, 14, 14, 17, 41, 41, 41, 41, 41, 41]\n",
    "Input:\n",
    "[6, 5, 4, 3, 2, 1]\n",
    "Output:\n",
    "[6, 6, 6, 6, 6, 6]\n",
    "Input:\n",
    "[1, 19, 5, 15, 5, 25, 5]\n",
    "Output:\n",
    "[1, 19, 19, 19, 19, 25, 25]\n",
    "\n",
    "\n",
    "28. Write a Python program to select a string from a given list of strings with the most unique characters.\n",
    "Input:\n",
    "['cat', 'catatatatctsa', 'abcdefhijklmnop', '124259239185125', '', 'foo', 'unique']\n",
    "Output:\n",
    "abcdefhijklmnop\n",
    "Input:\n",
    "['Green', 'Red', 'Orange', 'Yellow', '', 'White']\n",
    "Output:\n",
    "Orange\n",
    "\n",
    "29. Write a Python program to find the indices of two numbers that sum to 0 in a given list of numbers.\n",
    "Input:\n",
    "[1, -4, 6, 7, 4]\n",
    "Output:\n",
    "[4, 1]\n",
    "Input:\n",
    "[1232, -20352, 12547, 12440, 741, 341, 525, 20352, 91, 20]\n",
    "Output:\n",
    "[1, 7]"
   ]
  },
  {
   "cell_type": "code",
   "execution_count": 4,
   "id": "nearby-mailman",
   "metadata": {},
   "outputs": [],
   "source": [
    "def q_6(lst):\n",
    "    max_lst = max(lst)\n",
    "    min_lst = min(lst)\n",
    "    if max_lst > 999 or min_lst < 0 or len(lst) != 100:\n",
    "        return False\n",
    "    prev = lst[0]\n",
    "    for num in lst[1:]:\n",
    "        if num - prev != 10:\n",
    "            return False\n",
    "        prev = num\n",
    "        \n",
    "    return True"
   ]
  },
  {
   "cell_type": "code",
   "execution_count": null,
   "id": "closed-cliff",
   "metadata": {},
   "outputs": [],
   "source": [
    "[0, 10, 10, 10]"
   ]
  },
  {
   "cell_type": "code",
   "execution_count": null,
   "id": "mexican-snowboard",
   "metadata": {},
   "outputs": [],
   "source": [
    "def unique_string(lst):\n",
    "    unique = '*'\n",
    "    for string in lst:\n",
    "        if len(string) == len(list(set(string))):\n",
    "            if len(unique) < len(string):\n",
    "                unique = string\n",
    "    return(unique)\n",
    "\n",
    "lst1 = ['green', 'red', 'orange', 'yellow', '', 'white']\n",
    "lst2 = ['cat', 'catatatatctsa', 'abcdefhijklmnop', '124259239185125', '', 'foo', 'unique']\n",
    "lst3 = ['122sd', 'asdfdhfjjhoo', 'asdfgh', 'assdrr', 'asdfghjkl', 'qwertyuiolkjhggf', '1234567890']\n",
    "\n",
    "print(unique_string(lst3))"
   ]
  },
  {
   "cell_type": "code",
   "execution_count": 76,
   "id": "exterior-improvement",
   "metadata": {},
   "outputs": [
    {
     "ename": "TypeError",
     "evalue": "'<' not supported between instances of 'str' and 'int'",
     "output_type": "error",
     "traceback": [
      "\u001b[1;31m---------------------------------------------------------------------------\u001b[0m",
      "\u001b[1;31mTypeError\u001b[0m                                 Traceback (most recent call last)",
      "\u001b[1;32m<ipython-input-76-27c4c903782c>\u001b[0m in \u001b[0;36m<module>\u001b[1;34m\u001b[0m\n\u001b[1;32m----> 1\u001b[1;33m \u001b[1;34m'dsafjkhsadfh'\u001b[0m \u001b[1;33m<\u001b[0m \u001b[1;36m2\u001b[0m\u001b[1;33m\u001b[0m\u001b[1;33m\u001b[0m\u001b[0m\n\u001b[0m",
      "\u001b[1;31mTypeError\u001b[0m: '<' not supported between instances of 'str' and 'int'"
     ]
    }
   ],
   "source": []
  },
  {
   "cell_type": "code",
   "execution_count": 77,
   "id": "polar-entry",
   "metadata": {},
   "outputs": [],
   "source": [
    "def sort_func(string):\n",
    "    unique = set(string) # no doubles\n",
    "    return len(unique) # how many unique"
   ]
  },
  {
   "cell_type": "code",
   "execution_count": 78,
   "id": "harmful-democrat",
   "metadata": {},
   "outputs": [
    {
     "data": {
      "text/plain": [
       "2"
      ]
     },
     "execution_count": 78,
     "metadata": {},
     "output_type": "execute_result"
    }
   ],
   "source": [
    "sort_func('ababa') # ab"
   ]
  },
  {
   "cell_type": "code",
   "execution_count": 79,
   "id": "seasonal-netherlands",
   "metadata": {},
   "outputs": [
    {
     "data": {
      "text/plain": [
       "200"
      ]
     },
     "execution_count": 79,
     "metadata": {},
     "output_type": "execute_result"
    }
   ],
   "source": [
    "max([1, 200, 3])"
   ]
  },
  {
   "cell_type": "code",
   "execution_count": null,
   "id": "excess-pipeline",
   "metadata": {},
   "outputs": [],
   "source": [
    "def most_unique_chars(lst):\n",
    "    sort_func = lambda s: len(set(s))\n",
    "    return max(lst, key=sort_func, default='')"
   ]
  },
  {
   "cell_type": "code",
   "execution_count": 7,
   "id": "linear-packing",
   "metadata": {},
   "outputs": [
    {
     "name": "stdout",
     "output_type": "stream",
     "text": [
      "True\n",
      "False\n"
     ]
    }
   ],
   "source": [
    "lst1 = [0, 10, 20, 30, 40, 50, 60, 70, 80, 90, 100, 110, 120, 130, 140, 150, 160, 170, 180, 190, 200, 210, 220, 230, 240, 250, 260, 270, 280, 290, 300, 310, 320, 330, 340, 350, 360, 370, 380, 390, 400, 410, 420, 430, 440, 450, 460, 470, 480, 490, 500, 510, 520, 530, 540, 550, 560, 570, 580, 590, 600, 610, 620, 630, 640, 650, 660, 670, 680, 690, 700, 710, 720, 730, 740, 750, 760, 770, 780, 790, 800, 810, 820, 830, 840, 850, 860, 870, 880, 890, 900, 910, 920, 930, 940, 950, 960, 970, 980, 990]\n",
    "lst2 = [0, 20, 40, 60, 80, 100, 120, 140, 160, 180, 200, 220, 240, 260, 280, 300, 320, 340, 360, 380, 400, 420, 440, 460, 480, 500, 520, 540, 560, 580, 600, 620, 640, 660, 680, 700, 720, 740, 760, 780, 800, 820, 840, 860, 880, 900, 920, 940, 960, 980]\n",
    "print(q_6(lst1))\n",
    "print(q_6(lst2))"
   ]
  },
  {
   "cell_type": "code",
   "execution_count": 15,
   "id": "established-stock",
   "metadata": {},
   "outputs": [],
   "source": [
    "def q_7(lst):\n",
    "#     if len(lst) == 0:\n",
    "#         return True\n",
    "    sum_so_far = 0\n",
    "    for i, num in enumerate(lst):\n",
    "        sum_so_far += num\n",
    "        if sum_so_far != i + 1:\n",
    "            return False\n",
    "    \n",
    "    return True"
   ]
  },
  {
   "cell_type": "code",
   "execution_count": null,
   "id": "signed-commercial",
   "metadata": {},
   "outputs": [],
   "source": []
  },
  {
   "cell_type": "code",
   "execution_count": 16,
   "id": "checked-circulation",
   "metadata": {},
   "outputs": [
    {
     "name": "stdout",
     "output_type": "stream",
     "text": [
      "False\n",
      "True\n",
      "False\n"
     ]
    }
   ],
   "source": [
    "# Input:\n",
    "lst1 = [0, 1, 2, 3, 4, 5]\n",
    "# Output:\n",
    "# False\n",
    "# Input:\n",
    "lst2 = [1, 1, 1, 1, 1, 1]\n",
    "# Output:\n",
    "# True\n",
    "# Input:\n",
    "lst3 = [2, 2, 2, 2, 2]\n",
    "# Output:\n",
    "# False\n",
    "print(q_7(lst1))\n",
    "print(q_7(lst2))\n",
    "print(q_7(lst3))"
   ]
  },
  {
   "cell_type": "code",
   "execution_count": null,
   "id": "south-pakistan",
   "metadata": {},
   "outputs": [],
   "source": [
    "# input - list of numbers\n",
    "# output - indices of two numbers in the list that sum to 0\n",
    "I need to find not only that this condition exists in the list but also where\n",
    "def q_9(numbers):\n",
    "    for i in (numbers):\n",
    "        for j in numbers:\n",
    "            if i != j and numbers[i] + numbres[j] == 0:\n",
    "                return True\n",
    "            \n",
    "    return False"
   ]
  },
  {
   "cell_type": "code",
   "execution_count": 18,
   "id": "domestic-failing",
   "metadata": {},
   "outputs": [
    {
     "data": {
      "text/plain": [
       "2"
      ]
     },
     "execution_count": 18,
     "metadata": {},
     "output_type": "execute_result"
    }
   ],
   "source": [
    "def q_9(numbers):\n",
    "    for i, num1 in enumerate(numbers):\n",
    "        for j, num2 in enumerate(numbers):\n",
    "            if i != j and num1 + num2 == 0:\n",
    "                return [i, j]\n",
    "    return None\n",
    "\n",
    "print(q_9([1, -4, 6, 7, 4])) # [4, 1]\n",
    "print(q_9([1232, -20352, 12547, 12440, 741, 341, 525, 20352, 91, 20])) # [1, 7]"
   ]
  },
  {
   "cell_type": "code",
   "execution_count": null,
   "id": "covered-overall",
   "metadata": {},
   "outputs": [],
   "source": []
  },
  {
   "cell_type": "code",
   "execution_count": null,
   "id": "scientific-reduction",
   "metadata": {},
   "outputs": [],
   "source": []
  },
  {
   "cell_type": "markdown",
   "id": "planned-meeting",
   "metadata": {},
   "source": [
    "### Recursion"
   ]
  },
  {
   "cell_type": "code",
   "execution_count": 82,
   "id": "enormous-restaurant",
   "metadata": {},
   "outputs": [],
   "source": [
    "def func(x):\n",
    "    if x < 0:\n",
    "        return x\n",
    "    else:\n",
    "        func(x-1)\n",
    "        print(x)"
   ]
  },
  {
   "cell_type": "markdown",
   "id": "labeled-entry",
   "metadata": {},
   "source": [
    "# https://pythontutor.com/render.html#mode=display"
   ]
  },
  {
   "cell_type": "code",
   "execution_count": 83,
   "id": "statutory-warrant",
   "metadata": {},
   "outputs": [
    {
     "name": "stdout",
     "output_type": "stream",
     "text": [
      "0\n",
      "1\n",
      "2\n",
      "3\n",
      "4\n",
      "5\n",
      "6\n",
      "7\n",
      "8\n",
      "9\n",
      "10\n"
     ]
    }
   ],
   "source": [
    "func(10)"
   ]
  },
  {
   "cell_type": "code",
   "execution_count": 86,
   "id": "integral-disposal",
   "metadata": {},
   "outputs": [],
   "source": [
    "def recur_fibo(n):\n",
    "    if n <= 1:\n",
    "        return n\n",
    "    else:\n",
    "        return(recur_fibo(n-1) + recur_fibo(n-2))"
   ]
  },
  {
   "cell_type": "code",
   "execution_count": 89,
   "id": "geographic-oliver",
   "metadata": {},
   "outputs": [
    {
     "data": {
      "text/plain": [
       "34"
      ]
     },
     "execution_count": 89,
     "metadata": {},
     "output_type": "execute_result"
    }
   ],
   "source": [
    "recur_fibo(9)"
   ]
  },
  {
   "cell_type": "code",
   "execution_count": null,
   "id": "stainless-castle",
   "metadata": {},
   "outputs": [],
   "source": []
  },
  {
   "cell_type": "code",
   "execution_count": null,
   "id": "legendary-estimate",
   "metadata": {},
   "outputs": [],
   "source": []
  },
  {
   "cell_type": "code",
   "execution_count": null,
   "id": "fifty-technology",
   "metadata": {},
   "outputs": [],
   "source": []
  },
  {
   "cell_type": "code",
   "execution_count": null,
   "id": "divine-suffering",
   "metadata": {},
   "outputs": [],
   "source": []
  },
  {
   "cell_type": "markdown",
   "id": "dirty-sequence",
   "metadata": {},
   "source": [
    "### Collections\n",
    "* deque\n",
    "* OrderedDict\n",
    "* DefaultDict"
   ]
  },
  {
   "cell_type": "code",
   "execution_count": 93,
   "id": "changed-gardening",
   "metadata": {},
   "outputs": [],
   "source": [
    "from collections import defaultdict"
   ]
  },
  {
   "cell_type": "code",
   "execution_count": 94,
   "id": "interesting-intelligence",
   "metadata": {},
   "outputs": [
    {
     "data": {
      "text/plain": [
       "dict"
      ]
     },
     "execution_count": 94,
     "metadata": {},
     "output_type": "execute_result"
    }
   ],
   "source": [
    "d = {'a':1, 'b':2}\n",
    "type(d)"
   ]
  },
  {
   "cell_type": "code",
   "execution_count": 97,
   "id": "chinese-interstate",
   "metadata": {},
   "outputs": [],
   "source": [
    "lst  = [('yellow', 1), ('blue', 2), ('yellow', 3), ('blue', 4), ('red', 1)]\n",
    "d1 = defaultdict(list)"
   ]
  },
  {
   "cell_type": "code",
   "execution_count": 98,
   "id": "adaptive-escape",
   "metadata": {},
   "outputs": [],
   "source": [
    "d = {}\n",
    "for k, v in lst:\n",
    "    d[k] = v"
   ]
  },
  {
   "cell_type": "code",
   "execution_count": 110,
   "id": "dirty-amber",
   "metadata": {},
   "outputs": [
    {
     "name": "stdout",
     "output_type": "stream",
     "text": [
      "1\n",
      "2\n",
      "3\n",
      "4\n",
      "1\n"
     ]
    }
   ],
   "source": [
    "for tup in lst:\n",
    "    print(tup[1])"
   ]
  },
  {
   "cell_type": "code",
   "execution_count": 111,
   "id": "confidential-tuition",
   "metadata": {},
   "outputs": [
    {
     "name": "stdout",
     "output_type": "stream",
     "text": [
      "yellow 1\n",
      "blue 2\n",
      "yellow 3\n",
      "blue 4\n",
      "red 1\n"
     ]
    }
   ],
   "source": [
    "for k, v in lst:\n",
    "    print(k, v)"
   ]
  },
  {
   "cell_type": "code",
   "execution_count": 99,
   "id": "coral-investigator",
   "metadata": {},
   "outputs": [
    {
     "data": {
      "text/plain": [
       "{'yellow': 3, 'blue': 4, 'red': 1}"
      ]
     },
     "execution_count": 99,
     "metadata": {},
     "output_type": "execute_result"
    }
   ],
   "source": [
    "d"
   ]
  },
  {
   "cell_type": "code",
   "execution_count": 112,
   "id": "acceptable-spice",
   "metadata": {},
   "outputs": [
    {
     "name": "stdout",
     "output_type": "stream",
     "text": [
      "defaultdict(<class 'list'>, {})\n",
      "defaultdict(<class 'list'>, {'yellow': [1, 3], 'blue': [2, 4], 'red': [1]})\n"
     ]
    },
    {
     "data": {
      "text/plain": [
       "dict_items([('yellow', [1, 3]), ('blue', [2, 4]), ('red', [1])])"
      ]
     },
     "execution_count": 112,
     "metadata": {},
     "output_type": "execute_result"
    }
   ],
   "source": [
    "lst  = [('yellow', 1), ('blue', 2), ('yellow', 3), ('blue', 4), ('red', 1)]\n",
    "d1 = defaultdict(list)\n",
    "print(d1)\n",
    "for k, v in lst:\n",
    "    d1[k].append(v)\n",
    "\n",
    "print(d1)\n",
    "d1.items()"
   ]
  },
  {
   "cell_type": "code",
   "execution_count": 151,
   "id": "czech-measure",
   "metadata": {},
   "outputs": [
    {
     "data": {
      "text/plain": [
       "[]"
      ]
     },
     "execution_count": 151,
     "metadata": {},
     "output_type": "execute_result"
    }
   ],
   "source": [
    "d1['no_val']"
   ]
  },
  {
   "cell_type": "code",
   "execution_count": 102,
   "id": "experienced-think",
   "metadata": {},
   "outputs": [
    {
     "data": {
      "text/plain": [
       "[1, 3]"
      ]
     },
     "execution_count": 102,
     "metadata": {},
     "output_type": "execute_result"
    }
   ],
   "source": [
    "d1['yellow']"
   ]
  },
  {
   "cell_type": "code",
   "execution_count": 116,
   "id": "champion-favor",
   "metadata": {},
   "outputs": [],
   "source": [
    "from collections import OrderedDict\n",
    "order_dict = OrderedDict(sorted(d1.items(), key=lambda t: t[0]))"
   ]
  },
  {
   "cell_type": "code",
   "execution_count": 114,
   "id": "solved-crossing",
   "metadata": {},
   "outputs": [
    {
     "data": {
      "text/plain": [
       "list"
      ]
     },
     "execution_count": 114,
     "metadata": {},
     "output_type": "execute_result"
    }
   ],
   "source": [
    "sorted_d1 = sorted(d1.items(), key=lambda x: x[0])\n",
    "type(sorted_d1)"
   ]
  },
  {
   "cell_type": "code",
   "execution_count": 122,
   "id": "separate-survey",
   "metadata": {},
   "outputs": [
    {
     "data": {
      "text/plain": [
       "[2, 4]"
      ]
     },
     "execution_count": 122,
     "metadata": {},
     "output_type": "execute_result"
    }
   ],
   "source": [
    "order_d = OrderedDict(sorted_d1)\n",
    "order_d['blue']"
   ]
  },
  {
   "cell_type": "code",
   "execution_count": 121,
   "id": "embedded-asthma",
   "metadata": {
    "collapsed": true
   },
   "outputs": [
    {
     "ename": "KeyError",
     "evalue": "'a'",
     "output_type": "error",
     "traceback": [
      "\u001b[1;31m---------------------------------------------------------------------------\u001b[0m",
      "\u001b[1;31mKeyError\u001b[0m                                  Traceback (most recent call last)",
      "\u001b[1;32m<ipython-input-121-4ddc50b94ffc>\u001b[0m in \u001b[0;36m<module>\u001b[1;34m\u001b[0m\n\u001b[0;32m      1\u001b[0m \u001b[0md\u001b[0m \u001b[1;33m=\u001b[0m \u001b[1;33m{\u001b[0m\u001b[1;33m}\u001b[0m\u001b[1;33m\u001b[0m\u001b[1;33m\u001b[0m\u001b[0m\n\u001b[1;32m----> 2\u001b[1;33m \u001b[0md\u001b[0m\u001b[1;33m[\u001b[0m\u001b[1;34m'a'\u001b[0m\u001b[1;33m]\u001b[0m\u001b[1;33m\u001b[0m\u001b[1;33m\u001b[0m\u001b[0m\n\u001b[0m",
      "\u001b[1;31mKeyError\u001b[0m: 'a'"
     ]
    }
   ],
   "source": [
    "d = {}\n",
    "d['a']"
   ]
  },
  {
   "cell_type": "code",
   "execution_count": null,
   "id": "complex-precipitation",
   "metadata": {},
   "outputs": [],
   "source": []
  },
  {
   "cell_type": "code",
   "execution_count": null,
   "id": "magnetic-property",
   "metadata": {},
   "outputs": [],
   "source": []
  },
  {
   "cell_type": "code",
   "execution_count": null,
   "id": "premium-safety",
   "metadata": {},
   "outputs": [],
   "source": []
  },
  {
   "cell_type": "code",
   "execution_count": null,
   "id": "russian-pocket",
   "metadata": {},
   "outputs": [],
   "source": []
  },
  {
   "cell_type": "markdown",
   "id": "printable-grave",
   "metadata": {},
   "source": [
    "## OOP - Object Oriented Programming\n",
    "- switch to the slides\n",
    "* Rectangle example\n",
    "    * init\n",
    "    * privacy\n",
    "    * shape\n",
    "    * __str__\n",
    "    * __add__\n",
    "    * __eq__\n",
    "* method vs functions\n",
    "* static method\n",
    "* copy constructor\n",
    "* inheritance\n",
    "* super"
   ]
  },
  {
   "cell_type": "markdown",
   "id": "moderate-solution",
   "metadata": {},
   "source": [
    "### Rectangle Example"
   ]
  },
  {
   "cell_type": "code",
   "execution_count": 149,
   "id": "academic-bradford",
   "metadata": {},
   "outputs": [],
   "source": [
    "class Rectangle:\n",
    "    h = None\n",
    "    w = None\n",
    "    x = None\n",
    "    def __init__(self, h=1, w=1):\n",
    "        height = h # won't be saved\n",
    "        width = w # won't be saved\n",
    "        self.h = h\n",
    "        self.w = w\n",
    "#         self.x = None\n",
    "    \n",
    "    def new_prop(self, x):\n",
    "        self.x = x"
   ]
  },
  {
   "cell_type": "code",
   "execution_count": 148,
   "id": "hidden-shirt",
   "metadata": {},
   "outputs": [],
   "source": [
    "r = Rectangle()"
   ]
  },
  {
   "cell_type": "code",
   "execution_count": 142,
   "id": "nearby-blink",
   "metadata": {
    "collapsed": true
   },
   "outputs": [
    {
     "ename": "AttributeError",
     "evalue": "'Rectangle' object has no attribute 'x'",
     "output_type": "error",
     "traceback": [
      "\u001b[1;31m---------------------------------------------------------------------------\u001b[0m",
      "\u001b[1;31mAttributeError\u001b[0m                            Traceback (most recent call last)",
      "\u001b[1;32m<ipython-input-142-b463bc6e6b04>\u001b[0m in \u001b[0;36m<module>\u001b[1;34m\u001b[0m\n\u001b[0;32m      1\u001b[0m \u001b[0mr\u001b[0m \u001b[1;33m=\u001b[0m \u001b[0mRectangle\u001b[0m\u001b[1;33m(\u001b[0m\u001b[1;36m1\u001b[0m\u001b[1;33m,\u001b[0m \u001b[1;36m1\u001b[0m\u001b[1;33m)\u001b[0m\u001b[1;33m\u001b[0m\u001b[1;33m\u001b[0m\u001b[0m\n\u001b[1;32m----> 2\u001b[1;33m \u001b[0mr\u001b[0m\u001b[1;33m.\u001b[0m\u001b[0mx\u001b[0m\u001b[1;33m\u001b[0m\u001b[1;33m\u001b[0m\u001b[0m\n\u001b[0m",
      "\u001b[1;31mAttributeError\u001b[0m: 'Rectangle' object has no attribute 'x'"
     ]
    }
   ],
   "source": [
    "r = Rectangle(1, 1)\n",
    "r.x"
   ]
  },
  {
   "cell_type": "code",
   "execution_count": 140,
   "id": "closed-bruce",
   "metadata": {},
   "outputs": [
    {
     "data": {
      "text/plain": [
       "1"
      ]
     },
     "execution_count": 140,
     "metadata": {},
     "output_type": "execute_result"
    }
   ],
   "source": [
    "r = Rectangle(1, 1)\n",
    "r.new_prop(1)\n",
    "r.x"
   ]
  },
  {
   "cell_type": "code",
   "execution_count": 134,
   "id": "oriental-excitement",
   "metadata": {},
   "outputs": [
    {
     "name": "stdout",
     "output_type": "stream",
     "text": [
      "<__main__.Rectangle object at 0x000001D679F893C8>\n",
      "<__main__.Rectangle object at 0x000001D679F89308>\n"
     ]
    }
   ],
   "source": [
    "r1 = Rectangle(1, 1)\n",
    "r2 = Rectangle(2, 2)\n",
    "print(r1)\n",
    "print(r2)"
   ]
  },
  {
   "cell_type": "code",
   "execution_count": 135,
   "id": "universal-lindsay",
   "metadata": {},
   "outputs": [
    {
     "data": {
      "text/plain": [
       "1"
      ]
     },
     "execution_count": 135,
     "metadata": {},
     "output_type": "execute_result"
    }
   ],
   "source": [
    "r1.h"
   ]
  },
  {
   "cell_type": "code",
   "execution_count": 129,
   "id": "valuable-aurora",
   "metadata": {
    "scrolled": true
   },
   "outputs": [
    {
     "data": {
      "text/plain": [
       "2"
      ]
     },
     "execution_count": 129,
     "metadata": {},
     "output_type": "execute_result"
    }
   ],
   "source": [
    "r2.h"
   ]
  },
  {
   "cell_type": "markdown",
   "id": "olympic-reserve",
   "metadata": {},
   "source": [
    "# HOMEWORK"
   ]
  },
  {
   "cell_type": "markdown",
   "id": "controlled-composition",
   "metadata": {},
   "source": [
    "1. Write a Python function that takes a sequence of numbers and determines whether all the numbers are different from each other.\n",
    "Click me to see the sample solution\n",
    "\n",
    "2. Write a Python program that creates all possible strings using the letters 'a', 'e', 'i', 'o', and 'I'. Ensure that each character is used only once.\n",
    "Click me to see the sample solution\n",
    "\n",
    "3. Write a Python program that removes and prints every third number from a list of numbers until the list is empty.\n",
    "Click me to see the sample solution\n",
    "\n",
    "4. Write a Python program to identify unique triplets whose three elements sum to zero from an array of n integers.\n",
    "Click me to see the sample solution\n",
    "\n",
    "5. Write a Python program to make combinations of 3 digits.\n",
    "Click me to see the sample solution\n",
    "\n",
    "BONUS: !!!! RECURSION !!!!\n",
    "1. Write a Python program to calculate the sum of a list of numbers.\n"
   ]
  },
  {
   "cell_type": "code",
   "execution_count": null,
   "id": "utility-administrator",
   "metadata": {},
   "outputs": [],
   "source": [
    "https://www.w3schools.com/python/python_exercises.asp  - more exercises for who ever feel it's needed"
   ]
  },
  {
   "cell_type": "code",
   "execution_count": null,
   "id": "generous-tablet",
   "metadata": {},
   "outputs": [],
   "source": [
    "https://www.w3schools.com/python/python_functions.asp - more great explanations "
   ]
  },
  {
   "cell_type": "code",
   "execution_count": null,
   "id": "fossil-edgar",
   "metadata": {},
   "outputs": [],
   "source": []
  },
  {
   "cell_type": "code",
   "execution_count": null,
   "id": "lyric-adams",
   "metadata": {},
   "outputs": [],
   "source": []
  },
  {
   "cell_type": "code",
   "execution_count": null,
   "id": "dated-growing",
   "metadata": {},
   "outputs": [],
   "source": []
  },
  {
   "cell_type": "code",
   "execution_count": null,
   "id": "further-perry",
   "metadata": {},
   "outputs": [],
   "source": []
  },
  {
   "cell_type": "markdown",
   "id": "transparent-italy",
   "metadata": {},
   "source": [
    "<b> init"
   ]
  },
  {
   "cell_type": "markdown",
   "id": "acute-suite",
   "metadata": {},
   "source": [
    "<b>shape"
   ]
  },
  {
   "cell_type": "markdown",
   "id": "organic-shelter",
   "metadata": {},
   "source": [
    "<b>__str__<b>"
   ]
  },
  {
   "cell_type": "markdown",
   "id": "aging-shame",
   "metadata": {},
   "source": [
    "<b> __add__"
   ]
  },
  {
   "cell_type": "markdown",
   "id": "senior-abortion",
   "metadata": {},
   "source": [
    "<b>__eq__"
   ]
  },
  {
   "cell_type": "markdown",
   "id": "devoted-valuation",
   "metadata": {},
   "source": [
    "Tragil: write the class car"
   ]
  },
  {
   "cell_type": "code",
   "execution_count": null,
   "id": "practical-setting",
   "metadata": {},
   "outputs": [],
   "source": [
    "class Car:\n",
    "    def __init__(self, car_type, fuel_consumption):\n",
    "        pass\n",
    "    \n",
    "    def get_fuel_consumption(self):\n",
    "        \"\"\"return car fuel consumption\"\"\"\n",
    "        pass\n",
    "    \n",
    "    def add_fuel(self, fuel_to_add):\n",
    "        \"\"\"add fuel to the car\"\"\"\n",
    "        pass\n",
    "    \n",
    "    def drive(self, dist):\n",
    "        \"\"\"move the car dist amount of kilometers\"\"\"\n",
    "        pass\n",
    "    \n",
    "    def __str__(self):\n",
    "        \"\"\"make sure that when someone prints the car it will print the car type,\n",
    "        it's milage and fuel level\"\"\"\n",
    "        pass\n",
    "    \n",
    "    def get_status(self):\n",
    "        \"\"\"return the car fuel status, the car milage, and the car fuel_consumption\"\"\"\n",
    "        pass"
   ]
  },
  {
   "cell_type": "markdown",
   "id": "designing-hometown",
   "metadata": {},
   "source": [
    "<b>privacy<b>"
   ]
  },
  {
   "cell_type": "code",
   "execution_count": null,
   "id": "structural-warehouse",
   "metadata": {},
   "outputs": [],
   "source": [
    "class point"
   ]
  },
  {
   "cell_type": "markdown",
   "id": "diverse-ottawa",
   "metadata": {},
   "source": [
    "### method vs functions"
   ]
  },
  {
   "cell_type": "markdown",
   "id": "declared-pittsburgh",
   "metadata": {},
   "source": [
    "### static method"
   ]
  },
  {
   "cell_type": "markdown",
   "id": "stainless-dylan",
   "metadata": {},
   "source": [
    "### copy constructor"
   ]
  },
  {
   "cell_type": "markdown",
   "id": "acknowledged-strip",
   "metadata": {},
   "source": [
    "### inheritance"
   ]
  },
  {
   "cell_type": "markdown",
   "id": "injured-locking",
   "metadata": {},
   "source": [
    "### super"
   ]
  },
  {
   "cell_type": "code",
   "execution_count": null,
   "id": "grateful-prefix",
   "metadata": {},
   "outputs": [],
   "source": []
  }
 ],
 "metadata": {
  "kernelspec": {
   "display_name": "Python 3 (ipykernel)",
   "language": "python",
   "name": "python3"
  },
  "language_info": {
   "codemirror_mode": {
    "name": "ipython",
    "version": 3
   },
   "file_extension": ".py",
   "mimetype": "text/x-python",
   "name": "python",
   "nbconvert_exporter": "python",
   "pygments_lexer": "ipython3",
   "version": "3.10.9"
  }
 },
 "nbformat": 4,
 "nbformat_minor": 5
}
